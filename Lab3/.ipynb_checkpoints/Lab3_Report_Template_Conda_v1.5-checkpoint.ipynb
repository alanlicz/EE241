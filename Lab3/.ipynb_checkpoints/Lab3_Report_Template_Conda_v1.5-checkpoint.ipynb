{
 "cells": [
  {
   "cell_type": "markdown",
   "id": "94073f9a",
   "metadata": {},
   "source": [
    "##### Author: Jimin Kim (jk55@uw.edu)\n",
    "##### Version 1.5.0"
   ]
  },
  {
   "cell_type": "markdown",
   "id": "1fdff9c9",
   "metadata": {},
   "source": [
    "# Lab 3 Report"
   ]
  },
  {
   "cell_type": "markdown",
   "id": "16b41713",
   "metadata": {},
   "source": [
    "## Group Members:\n",
    "## Group Name for Leaderboard: "
   ]
  },
  {
   "cell_type": "code",
   "execution_count": null,
   "id": "9b0a2d9d",
   "metadata": {},
   "outputs": [],
   "source": [
    "import matplotlib.pyplot as plt\n",
    "import matplotlib.image as mpimg\n",
    "import numpy as np\n",
    "\n",
    "from PIL import Image \n",
    "%matplotlib inline"
   ]
  },
  {
   "cell_type": "markdown",
   "id": "be9c587e",
   "metadata": {},
   "source": [
    "### Exercise 1: Generalized function for subsetting pixels"
   ]
  },
  {
   "cell_type": "markdown",
   "id": "666fc07e",
   "metadata": {},
   "source": [
    "<img src=\"lab3_exercise1.png\" width=\"1000\">"
   ]
  },
  {
   "cell_type": "code",
   "execution_count": null,
   "id": "60cd1239",
   "metadata": {},
   "outputs": [],
   "source": [
    "e1_img = Image.open('sample_image_1.jpg').convert('L')\n",
    "e1_img = np.array(e1_img)     # 8-bit code grayscale"
   ]
  },
  {
   "cell_type": "code",
   "execution_count": null,
   "id": "8854d36d",
   "metadata": {},
   "outputs": [],
   "source": [
    "fig = plt.figure(figsize=(7, 7))\n",
    "\n",
    "plt.imshow(e1_img, cmap = 'gray')"
   ]
  },
  {
   "cell_type": "code",
   "execution_count": null,
   "id": "94aaf8a6",
   "metadata": {},
   "outputs": [],
   "source": [
    "def subset_pixels(image, min_pixel_depth, max_pixel_depth, replacement_val):\n",
    "    \n",
    "    # YOUR CODE HERE\n",
    "    # Make sure you create a copy of the image via new_image = image.copy() to avoid tempering the global variable\n",
    "    \n",
    "    return output_image"
   ]
  },
  {
   "cell_type": "code",
   "execution_count": null,
   "id": "12e6ee5e",
   "metadata": {},
   "outputs": [],
   "source": [
    "# min_pixel_depth = 50, max_pixel_depth = 250, replacement_val = 100\n",
    "\n",
    "fig = plt.figure(figsize=(7, 7))\n",
    "\n",
    "e1_output1 = subset_pixels(image = e1_img, min_pixel_depth = 50, max_pixel_depth = 250, replacement_val = 100)\n",
    "\n",
    "plt.imshow(e1_output1, cmap = 'gray', vmin = 0, vmax = 255)\n",
    "\n",
    "plt.savefig('e1_output1.png')"
   ]
  },
  {
   "cell_type": "code",
   "execution_count": null,
   "id": "81b3f9bc",
   "metadata": {},
   "outputs": [],
   "source": [
    "# min_pixel_depth = 100, max_pixel_depth = 200, replacement_val = 30\n",
    "\n",
    "fig = plt.figure(figsize=(7, 7))\n",
    "\n",
    "e1_output2 = subset_pixels(image = e1_img, min_pixel_depth = 100, max_pixel_depth = 200, replacement_val = 30)\n",
    "\n",
    "plt.imshow(e1_output2, cmap = 'gray', vmin = 0, vmax = 255)\n",
    "\n",
    "plt.savefig('e1_output2.png')"
   ]
  },
  {
   "cell_type": "code",
   "execution_count": null,
   "id": "dba6ccd5",
   "metadata": {},
   "outputs": [],
   "source": [
    "# min_pixel_depth = 50, max_pixel_depth = 255, replacement_val = 255\n",
    "\n",
    "fig = plt.figure(figsize=(7, 7))\n",
    "\n",
    "e1_output3 = subset_pixels(image = e1_img, min_pixel_depth = 50, max_pixel_depth = 255, replacement_val = 255)\n",
    "\n",
    "plt.imshow(e1_output3, cmap = 'gray', vmin = 0, vmax = 255)\n",
    "\n",
    "plt.savefig('e1_output3.png')"
   ]
  },
  {
   "cell_type": "markdown",
   "id": "427ff2a9",
   "metadata": {},
   "source": [
    "### Exercise 2: Thumbnail generator function"
   ]
  },
  {
   "cell_type": "markdown",
   "id": "5409f4fb",
   "metadata": {},
   "source": [
    "<img src=\"lab3_exercise2.png\" width=\"1000\">"
   ]
  },
  {
   "cell_type": "code",
   "execution_count": null,
   "id": "514dbd51",
   "metadata": {},
   "outputs": [],
   "source": [
    "e2_img = mpimg.imread('sample_image_2.jpg')\n",
    "e2_img = np.array(e2_img)     "
   ]
  },
  {
   "cell_type": "code",
   "execution_count": null,
   "id": "a24db98d",
   "metadata": {},
   "outputs": [],
   "source": [
    "fig = plt.figure(figsize=(7, 7))\n",
    "\n",
    "plt.imshow(e2_img)"
   ]
  },
  {
   "cell_type": "code",
   "execution_count": null,
   "id": "8d9c7e15",
   "metadata": {},
   "outputs": [],
   "source": [
    "def create_thumbnail(image, downsampling_rate):\n",
    "    \n",
    "    # YOUR CODE HERE\n",
    "    # USE SEGMENT AVERAGE METHOD (Lecture slide 23) NOT PICK ONE METHOD\n",
    "    # MAKE SURE YOU ROUND YOUR AVERAGED PIXELS TO INTEGER TO CONFORM TO RGB 8-BIT CODING \n",
    "    \n",
    "    return output_image"
   ]
  },
  {
   "cell_type": "code",
   "execution_count": null,
   "id": "e476447b",
   "metadata": {},
   "outputs": [],
   "source": [
    "# downsampling rate x5\n",
    "\n",
    "fig = plt.figure(figsize=(7, 7))\n",
    "\n",
    "e2_output1 = create_thumbnail(image = e2_img, downsampling_rate = 5)\n",
    "\n",
    "plt.imshow(e2_output1, vmin = 0, vmax = 255)\n",
    "\n",
    "plt.savefig('e2_output1.png')"
   ]
  },
  {
   "cell_type": "code",
   "execution_count": null,
   "id": "12b99d0d",
   "metadata": {},
   "outputs": [],
   "source": [
    "# downsampling rate x10\n",
    "\n",
    "fig = plt.figure(figsize=(7, 7))\n",
    "\n",
    "e2_output2 = create_thumbnail(image = e2_img, downsampling_rate = 10)\n",
    "\n",
    "plt.imshow(e2_output2, vmin = 0, vmax = 255)\n",
    "\n",
    "plt.savefig('e2_output2.png')"
   ]
  },
  {
   "cell_type": "code",
   "execution_count": null,
   "id": "864b8044",
   "metadata": {},
   "outputs": [],
   "source": [
    "# downsampling rate x20\n",
    "\n",
    "fig = plt.figure(figsize=(7, 7))\n",
    "\n",
    "e2_output3 = create_thumbnail(image = e2_img, downsampling_rate = 20)\n",
    "\n",
    "plt.imshow(e2_output3, vmin = 0, vmax = 255)\n",
    "\n",
    "plt.savefig('e2_output3.png')"
   ]
  },
  {
   "cell_type": "markdown",
   "id": "c55346e9",
   "metadata": {},
   "source": [
    "## Extra credit: Code efficiency\n",
    "### Achieve a runtime speed of < 100ms"
   ]
  },
  {
   "cell_type": "code",
   "execution_count": null,
   "id": "22f96322",
   "metadata": {},
   "outputs": [],
   "source": [
    "timeit -n 1 -r 7 e2_output2 = create_thumbnail(image = e2_img, downsampling_rate = 5)"
   ]
  },
  {
   "cell_type": "markdown",
   "id": "241c78a0",
   "metadata": {},
   "source": [
    "### Exercise 3: Generalized image blender function"
   ]
  },
  {
   "cell_type": "markdown",
   "id": "d6762c0e",
   "metadata": {},
   "source": [
    "<img src=\"lab3_exercise3.png\" width=\"1000\">"
   ]
  },
  {
   "cell_type": "code",
   "execution_count": null,
   "id": "b01ce1e8",
   "metadata": {},
   "outputs": [],
   "source": [
    "e3_img1 = mpimg.imread('sample_image_1.jpg')\n",
    "e3_img2 = mpimg.imread('sample_image_2.jpg')\n",
    "e3_img3 = mpimg.imread('sample_image_3.jpg')\n",
    "e3_img4 = mpimg.imread('sample_image_4.jpg')\n",
    "e3_img5 = mpimg.imread('sample_image_5.jpg')\n",
    "\n",
    "e3_img1 = np.array(e3_img1)     \n",
    "e3_img2 = np.array(e3_img2)     \n",
    "e3_img3 = np.array(e3_img3)     \n",
    "e3_img4 = np.array(e3_img4)     \n",
    "e3_img5 = np.array(e3_img5)     "
   ]
  },
  {
   "cell_type": "code",
   "execution_count": null,
   "id": "03fa5368",
   "metadata": {},
   "outputs": [],
   "source": [
    "fig = plt.figure(figsize=(15, 15))\n",
    "\n",
    "plt.subplot(1,5,1)\n",
    "plt.imshow(e3_img1, vmin = 0, vmax = 255)\n",
    "\n",
    "plt.subplot(1,5,2)\n",
    "plt.imshow(e3_img2, vmin = 0, vmax = 255)\n",
    "\n",
    "plt.subplot(1,5,3)\n",
    "plt.imshow(e3_img3, vmin = 0, vmax = 255)\n",
    "\n",
    "plt.subplot(1,5,4)\n",
    "plt.imshow(e3_img4, vmin = 0, vmax = 255)\n",
    "\n",
    "plt.subplot(1,5,5)\n",
    "plt.imshow(e3_img5, vmin = 0, vmax = 255)"
   ]
  },
  {
   "cell_type": "code",
   "execution_count": null,
   "id": "a2aee92d",
   "metadata": {},
   "outputs": [],
   "source": [
    "def blend_images(image_list, weight_list):\n",
    "    \n",
    "    # YOUR CODE HERE\n",
    "    \n",
    "    return output_image"
   ]
  },
  {
   "cell_type": "code",
   "execution_count": null,
   "id": "1681ebaa",
   "metadata": {},
   "outputs": [],
   "source": [
    "# Blend all 5 images with equal weights\n",
    "\n",
    "e3_part1_image_list =[e3_img1, e3_img2, e3_img3, e3_img4, e3_img5]\n",
    "e3_part1_weight_list = [0.2, 0.2, 0.2, 0.2, 0.2]\n",
    "\n",
    "e3_output1 = blend_images(image_list = e3_part1_image_list, weight_list = e3_part1_weight_list)\n",
    "\n",
    "fig = plt.figure(figsize=(7, 7))\n",
    "\n",
    "plt.imshow(e3_output1, vmin = 0, vmax = 255)\n",
    "\n",
    "plt.savefig('e3_output1.png')"
   ]
  },
  {
   "cell_type": "code",
   "execution_count": null,
   "id": "ca48ef4e",
   "metadata": {},
   "outputs": [],
   "source": [
    "# Blend first 3 images with different weights\n",
    "\n",
    "e3_part2_image_list =[e3_img1, e3_img2, e3_img3]\n",
    "e3_part2_weight_list = [0.2, 0.3, 0.5]\n",
    "\n",
    "e3_output2 = blend_images(image_list = e3_part2_image_list, weight_list = e3_part2_weight_list)\n",
    "\n",
    "fig = plt.figure(figsize=(5, 5))\n",
    "\n",
    "plt.imshow(e3_output2, vmin = 0, vmax = 255)\n",
    "\n",
    "plt.savefig('e3_output2.png')"
   ]
  },
  {
   "cell_type": "markdown",
   "id": "3d2b88d6",
   "metadata": {},
   "source": [
    "### Exercise 4: Image rotation function"
   ]
  },
  {
   "cell_type": "markdown",
   "id": "9746b763",
   "metadata": {},
   "source": [
    "<img src=\"lab3_exercise4.png\" width=\"1000\">"
   ]
  },
  {
   "cell_type": "code",
   "execution_count": null,
   "id": "92ebf6d7",
   "metadata": {},
   "outputs": [],
   "source": [
    "e4_img = mpimg.imread('sample_image_2.jpg')\n",
    "e4_img = np.array(e4_img)     "
   ]
  },
  {
   "cell_type": "code",
   "execution_count": null,
   "id": "d51ed985",
   "metadata": {},
   "outputs": [],
   "source": [
    "fig = plt.figure(figsize=(7, 7))\n",
    "\n",
    "plt.imshow(e4_img, vmin = 0, vmax = 255)"
   ]
  },
  {
   "cell_type": "code",
   "execution_count": null,
   "id": "016c2382",
   "metadata": {},
   "outputs": [],
   "source": [
    "def rotate_image(image, rotate_angle): # rotate angle takes one of 0, 90, 180, 270\n",
    "    \n",
    "    # YOUR CODE HERE\n",
    "    # Make sure you create a copy of the image via new_image = image.copy() to avoid tempering the global variable\n",
    "    \n",
    "    return output_image"
   ]
  },
  {
   "cell_type": "code",
   "execution_count": null,
   "id": "7ab41346",
   "metadata": {},
   "outputs": [],
   "source": [
    "# Rotate the image by 0 degrees - This should result in identity\n",
    "\n",
    "e4_output1 = rotate_image(image = e4_img, rotate_angle = 0)\n",
    "\n",
    "fig = plt.figure(figsize=(7, 7))\n",
    "\n",
    "plt.imshow(e4_output1, vmin = 0, vmax = 255)\n",
    "\n",
    "plt.savefig('e4_output1.png')"
   ]
  },
  {
   "cell_type": "code",
   "execution_count": null,
   "id": "9e2990d1",
   "metadata": {},
   "outputs": [],
   "source": [
    "# Rotate the image by 90 degrees\n",
    "\n",
    "e4_output2 = rotate_image(image = e4_img, rotate_angle = 90)\n",
    "\n",
    "fig = plt.figure(figsize=(7, 7))\n",
    "\n",
    "plt.imshow(e4_output2, vmin = 0, vmax = 255)\n",
    "\n",
    "plt.savefig('e4_output2.png')"
   ]
  },
  {
   "cell_type": "code",
   "execution_count": null,
   "id": "9f400b22",
   "metadata": {},
   "outputs": [],
   "source": [
    "# Rotate the image by 180 degrees\n",
    "\n",
    "e4_output3 = rotate_image(image = e4_img, rotate_angle = 180)\n",
    "\n",
    "fig = plt.figure(figsize=(7, 7))\n",
    "\n",
    "plt.imshow(e4_output3, vmin = 0, vmax = 255)\n",
    "\n",
    "plt.savefig('e4_output3.png')"
   ]
  },
  {
   "cell_type": "code",
   "execution_count": null,
   "id": "d6963f10",
   "metadata": {},
   "outputs": [],
   "source": [
    "# Rotate the image by 270 degrees\n",
    "\n",
    "e4_output4 = rotate_image(image = e4_img, rotate_angle = 270)\n",
    "\n",
    "fig = plt.figure(figsize=(7, 7))\n",
    "\n",
    "plt.imshow(e4_output4, vmin = 0, vmax = 255)\n",
    "\n",
    "plt.savefig('e4_output4.png')"
   ]
  },
  {
   "cell_type": "markdown",
   "id": "044621a0",
   "metadata": {},
   "source": [
    "## Extra credit: Code efficiency\n",
    "### Achieve a runtime speed of < 5ms"
   ]
  },
  {
   "cell_type": "code",
   "execution_count": null,
   "id": "f9c0887d",
   "metadata": {},
   "outputs": [],
   "source": [
    "timeit -n 1 -r 7 e4_output2 = rotate_image(image = e4_img, rotate_angle = 90)"
   ]
  },
  {
   "cell_type": "markdown",
   "id": "8256b332",
   "metadata": {},
   "source": [
    "### Exercise 5: 2D Gaussian image generator"
   ]
  },
  {
   "cell_type": "markdown",
   "id": "1bdbaed2",
   "metadata": {},
   "source": [
    "<img src=\"lab3_exercise5.png\" width=\"1000\">"
   ]
  },
  {
   "cell_type": "code",
   "execution_count": null,
   "id": "5e73a4fb",
   "metadata": {},
   "outputs": [],
   "source": [
    "x_range = np.arange(-25, 25, 1)\n",
    "y_range = np.arange(-25, 25, 1)[::-1]\n",
    "\n",
    "X, Y = np.meshgrid(x_range, y_range) # More detail on documentation \n",
    "                                     # https://numpy.org/doc/stable/reference/generated/numpy.meshgrid.html"
   ]
  },
  {
   "cell_type": "code",
   "execution_count": null,
   "id": "04a8e05b",
   "metadata": {},
   "outputs": [],
   "source": [
    "print(X, X.shape) # Set of x-coordinates in the function domain     "
   ]
  },
  {
   "cell_type": "code",
   "execution_count": null,
   "id": "6a400387",
   "metadata": {},
   "outputs": [],
   "source": [
    "print(Y, Y.shape) # Set of y-coordinates in the function domain   "
   ]
  },
  {
   "cell_type": "code",
   "execution_count": null,
   "id": "94b1fd2c",
   "metadata": {},
   "outputs": [],
   "source": [
    "def vis_2d_gaussian(X, Y, sigma_x, sigma_y, x0, y0, A, cmap):\n",
    "\n",
    "    # YOUR CODE HERE\n"
   ]
  },
  {
   "cell_type": "code",
   "execution_count": null,
   "id": "ad47e61a",
   "metadata": {},
   "outputs": [],
   "source": [
    "# First parameter set: sigma_x = 10, sigma_y = 10, x0 = 0, y0 = 0\n",
    "# cmap = 'gray'\n",
    "\n",
    "fig = plt.figure(figsize=(7, 7))\n",
    "\n",
    "vis_2d_gaussian(X, Y, sigma_x = 10, sigma_y = 10, x0 = 0, y0 = 0, A = 255, cmap = 'gray')\n",
    "\n",
    "plt.savefig('e5_output1.png')"
   ]
  },
  {
   "cell_type": "code",
   "execution_count": null,
   "id": "852e54b8",
   "metadata": {},
   "outputs": [],
   "source": [
    "# First parameter set\n",
    "# cmap = 'jet'\n",
    "\n",
    "fig = plt.figure(figsize=(7, 7))\n",
    "\n",
    "vis_2d_gaussian(X, Y, sigma_x = 10, sigma_y = 10, x0 = 0, y0 = 0, A = 255, cmap = 'jet')\n",
    "\n",
    "plt.savefig('e5_output2.png')"
   ]
  },
  {
   "cell_type": "code",
   "execution_count": null,
   "id": "4e34bca6",
   "metadata": {},
   "outputs": [],
   "source": [
    "# Second parameter set: sigma_x = 5, sigma_y = 5, x0 = 3, y = 3\n",
    "# grayscale color specturm\n",
    "\n",
    "fig = plt.figure(figsize=(7, 7))\n",
    "\n",
    "vis_2d_gaussian(X, Y, sigma_x = 5, sigma_y = 5, x0 = 3, y0 = 3, A = 255, cmap = 'gray')\n",
    "\n",
    "plt.savefig('e5_output1.png')"
   ]
  },
  {
   "cell_type": "code",
   "execution_count": null,
   "id": "e2d28572",
   "metadata": {},
   "outputs": [],
   "source": [
    "# Second parameter set: sigma_x = 5, sigma_y = 5, x0 = 3, y = 3\n",
    "# jet color specturm\n",
    "\n",
    "fig = plt.figure(figsize=(7, 7))\n",
    "\n",
    "vis_2d_gaussian(X, Y, sigma_x = 5, sigma_y = 5, x0 = 3, y0 = 3, A = 255, cmap = 'jet')\n",
    "\n",
    "plt.savefig('e5_output2.png')"
   ]
  }
 ],
 "metadata": {
  "kernelspec": {
   "display_name": "Python 3 (ipykernel)",
   "language": "python",
   "name": "python3"
  },
  "language_info": {
   "codemirror_mode": {
    "name": "ipython",
    "version": 3
   },
   "file_extension": ".py",
   "mimetype": "text/x-python",
   "name": "python",
   "nbconvert_exporter": "python",
   "pygments_lexer": "ipython3",
   "version": "3.9.7"
  }
 },
 "nbformat": 4,
 "nbformat_minor": 5
}
