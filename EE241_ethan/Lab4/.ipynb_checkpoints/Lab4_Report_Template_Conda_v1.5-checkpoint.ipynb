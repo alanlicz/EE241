{
 "cells": [
  {
   "cell_type": "markdown",
   "id": "f5f4d0b1",
   "metadata": {},
   "source": [
    "##### Author: Jimin Kim (jk55@uw.edu)\n",
    "##### Version 1.5.0"
   ]
  },
  {
   "cell_type": "markdown",
   "id": "c15dd830",
   "metadata": {},
   "source": [
    "# Lab 4 Report"
   ]
  },
  {
   "cell_type": "markdown",
   "id": "0b76e12f",
   "metadata": {},
   "source": [
    "## Group Members:\n",
    "## Group Name for Leaderboard: "
   ]
  },
  {
   "cell_type": "code",
   "execution_count": null,
   "id": "4d45e0cd",
   "metadata": {},
   "outputs": [],
   "source": [
    "import numpy as np\n",
    "import pandas as pd\n",
    "import matplotlib.pyplot as plt\n",
    "\n",
    "%matplotlib inline"
   ]
  },
  {
   "cell_type": "markdown",
   "id": "f900d0d0",
   "metadata": {},
   "source": [
    "### Exercise 1: Construct Dictionaries from Data"
   ]
  },
  {
   "cell_type": "markdown",
   "id": "87db7d24",
   "metadata": {},
   "source": [
    "<img src=\"lab4_exercise1.png\" width=\"1000\">"
   ]
  },
  {
   "cell_type": "code",
   "execution_count": null,
   "id": "0f1a2e57",
   "metadata": {},
   "outputs": [],
   "source": [
    "def convert_csv_to_dict(file_path):\n",
    "    \n",
    "    # YOUR CODE HERE\n",
    "    # Section 1.1 and 2.3 of Lab4_Lecture_Examples.ipynb might be helpful\n",
    "    dict_object={} # create an empty dictionary\n",
    "    dict_object['Filename']=file_path \n",
    "    file=pd.read_csv(file_path) \n",
    "    file_np=file.to_numpy().T # reorder the data\n",
    "    i=0 \n",
    "    for column in file.columns: # iterate through colunms and add keys\n",
    "        dict_object[column]=file_np[i]\n",
    "        i=i+1\n",
    "    return dict_object"
   ]
  },
  {
   "cell_type": "code",
   "execution_count": null,
   "id": "4b92b859",
   "metadata": {},
   "outputs": [],
   "source": [
    "TSLA_dict = convert_csv_to_dict('TSLA.csv')"
   ]
  },
  {
   "cell_type": "code",
   "execution_count": 22,
   "id": "bf7b05fa",
   "metadata": {},
   "outputs": [
    {
     "name": "stdout",
     "output_type": "stream",
     "text": [
      "[19.0 25.790001 25.0 23.0 20.0 16.4 16.139999 17.58 17.950001 17.389999]\n",
      "[17.540001 23.299999 20.27 18.709999 15.83 14.98 15.57 16.549999 17.0 16.9]\n"
     ]
    }
   ],
   "source": [
    "# Navigate to keys corresponding to 2nd and 4th columns (Open and Low prices) of TSLA.csv, \n",
    "# Print first 10 elements of each key.\n",
    "\n",
    "TSLA_column2 = \"Open\"\n",
    "TSLA_column4 = \"Low\"\n",
    "print(TSLA_dict[TSLA_column2][:10])\n",
    "print(TSLA_dict[TSLA_column4][:10])"
   ]
  },
  {
   "cell_type": "code",
   "execution_count": 23,
   "id": "e943cb82",
   "metadata": {},
   "outputs": [],
   "source": [
    "diabetes_dict = convert_csv_to_dict('diabetes.csv')"
   ]
  },
  {
   "cell_type": "code",
   "execution_count": 24,
   "id": "3ad77d50",
   "metadata": {},
   "outputs": [
    {
     "name": "stdout",
     "output_type": "stream",
     "text": [
      "[148.  85. 183.  89. 137. 116.  78. 115. 197. 125.]\n",
      "[35. 29.  0. 23. 35.  0. 32.  0. 45.  0.]\n"
     ]
    }
   ],
   "source": [
    "# Navigate to keys corresponding to 2nd and 4th columns (Glucose and SkinThickness) of diabetes.csv, \n",
    "# Print first 10 elements of each key.\n",
    "\n",
    "diabetes_column2 = \"Glucose\"\n",
    "diabetes_column4 = \"SkinThickness\"\n",
    "print(diabetes_dict[diabetes_column2][:10])\n",
    "print(diabetes_dict[diabetes_column4][:10])"
   ]
  },
  {
   "cell_type": "markdown",
   "id": "5eb0da37",
   "metadata": {},
   "source": [
    "### Exercise 2: Bar graph with confidence intervals"
   ]
  },
  {
   "cell_type": "markdown",
   "id": "c15dd5f4",
   "metadata": {},
   "source": [
    "<img src=\"lab4_exercise2.png\" width=\"1000\">"
   ]
  },
  {
   "cell_type": "code",
   "execution_count": 43,
   "id": "dfda82e0",
   "metadata": {},
   "outputs": [],
   "source": [
    "# Load diabetes.csv \n",
    "# Split the data into diabetic and non-diabetic\n",
    "\n",
    "diabetes = pd.read_csv('diabetes.csv')\n",
    "\n",
    "# YOUR CODE HERE\n",
    "diabetes_np=diabetes.to_numpy() \n",
    "\n",
    "diabetic_ind=(diabetes_np[:,-1]==1) # get the index of diabetic \n",
    "diabetic=diabetes_np[diabetic_ind,:] # extract diabetic using the index\n",
    "non_diabetic_ind=(diabetes_np[:,-1]==0) # get the index of non-diabetic\n",
    "non_diabetic=diabetes_np[non_diabetic_ind,:] # extract non-diabetic using the index"
   ]
  },
  {
   "cell_type": "code",
   "execution_count": 51,
   "id": "38c0873e",
   "metadata": {},
   "outputs": [],
   "source": [
    "# Extract glucose, blood pressure, and BMI metrics from diabetic and non-diabetic\n",
    "\n",
    "# non-diabetic metrics\n",
    "non_diabetic_glucose = non_diabetic[:,1]\n",
    "non_diabetic_bp = non_diabetic[:,2]\n",
    "non_diabetic_bmi = non_diabetic[:,5]\n",
    "\n",
    "# diabetic metrics\n",
    "diabetic_glucose = diabetic[:,1]\n",
    "diabetic_bp = diabetic[:,2]\n",
    "diabetic_bmi = diabetic[:,5]\n",
    "\n",
    "non_diabetic_list = [non_diabetic_glucose, non_diabetic_bp, non_diabetic_bmi]\n",
    "diabetic_list = [diabetic_glucose, diabetic_bp, diabetic_bmi]\n",
    "\n",
    "non_diabetic_bar_labels = ['non_diabetic_glucose', 'non_diabetic_bp', 'non_diabetic_bmi']\n",
    "diabetic_bar_labels = ['diabetic_glucose', 'diabetic_bp', 'diabetic_bmi']"
   ]
  },
  {
   "cell_type": "code",
   "execution_count": 78,
   "id": "14e87c48",
   "metadata": {},
   "outputs": [],
   "source": [
    "import scipy.stats as st\n",
    "def produce_bargraph_CI(data_vec_list, conf_level, bar_labels):\n",
    "    \n",
    "    # YOUR CODE HERE \n",
    "    # THE FUNCTION SHOULD OUTPUT THE PLOT\n",
    "    # MAKE SURE YOUR LABELS (bar labels, plot titles are large enough)\n",
    "    \n",
    "    #computes lower and upper bound for provided confidence level\n",
    "    data_0_lower,data_0_upper=st.t.interval(alpha=conf_level,df=len(data_vec_list[0])-1,\n",
    "                                      loc=np.mean(data_vec_list[0]), scale=st.sem(data_vec_list[0]))\n",
    "    h_0 = data_0_upper - np.mean(data_vec_list[0]) # Confidence interval size of data 0\n",
    "    \n",
    "    data_1_lower,data_1_upper=st.t.interval(alpha=conf_level,df=len(data_vec_list[1])-1,\n",
    "                                      loc=np.mean(data_vec_list[1]), scale=st.sem(data_vec_list[1]))\n",
    "    h_1 = data_1_upper - np.mean(data_vec_list[1]) \n",
    "    \n",
    "    data_2_lower,data_2_upper=st.t.interval(alpha=conf_level,df=len(data_vec_list[2])-1,\n",
    "                                      loc=np.mean(data_vec_list[2]), scale=st.sem(data_vec_list[2]))\n",
    "    h_2 = data_2_upper - np.mean(data_vec_list[2]) \n",
    "    \n",
    "    fig = plt.figure(figsize=(7,12)) # adjust the size of the figure\n",
    "    plt.bar(bar_labels,[np.mean(data_vec_list[0]),np.mean(data_vec_list[1]),np.mean(data_vec_list[2])],\n",
    "           width=0.5, color='black',\n",
    "           yerr=[h_0,h_1,h_2], ecolor='grey',\n",
    "           error_kw=dict(lw=5,capsize=50,capthick=5))"
   ]
  },
  {
   "cell_type": "code",
   "execution_count": 79,
   "id": "cccb2595",
   "metadata": {},
   "outputs": [
    {
     "data": {
      "image/png": "[encoded data removed]",
      "text/plain": [
       "<Figure size 504x864 with 1 Axes>"
      ]
     },
     "metadata": {
      "needs_background": "light"
     },
     "output_type": "display_data"
    }
   ],
   "source": [
    "produce_bargraph_CI(data_vec_list = non_diabetic_list, conf_level = 0.99, bar_labels = non_diabetic_bar_labels)"
   ]
  },
  {
   "cell_type": "code",
   "execution_count": 80,
   "id": "4452891f",
   "metadata": {},
   "outputs": [
    {
     "data": {
      "image/png": "[encoded data removed]",
      "text/plain": [
       "<Figure size 504x864 with 1 Axes>"
      ]
     },
     "metadata": {
      "needs_background": "light"
     },
     "output_type": "display_data"
    }
   ],
   "source": [
    "produce_bargraph_CI(data_vec_list = diabetic_list, conf_level = 0.95, bar_labels = diabetic_bar_labels)"
   ]
  },
  {
   "cell_type": "markdown",
   "id": "58bb0604",
   "metadata": {},
   "source": [
    "### Exercise 3: Rolling Mean/Median Function from Scratch"
   ]
  },
  {
   "cell_type": "markdown",
   "id": "f7a0620a",
   "metadata": {},
   "source": [
    "<img src=\"lab4_exercise3.png\" width=\"1000\">"
   ]
  },
  {
   "cell_type": "code",
   "execution_count": 92,
   "id": "21b82271",
   "metadata": {},
   "outputs": [],
   "source": [
    "# Load stock datasets\n",
    "\n",
    "tesla = pd.read_csv('TSLA.csv') \n",
    "tesla_np = tesla.to_numpy()\n",
    "\n",
    "google = pd.read_csv('GOOGL.csv') \n",
    "google_np = google.to_numpy()\n",
    "\n",
    "dji = pd.read_csv('DJI.csv') \n",
    "dji_np = dji.to_numpy()"
   ]
  },
  {
   "cell_type": "code",
   "execution_count": 93,
   "id": "9c6146a0",
   "metadata": {},
   "outputs": [],
   "source": [
    "# Extract closing price for each stock data\n",
    "\n",
    "tesla_np_closing = tesla_np[:, 4]\n",
    "google_np_closing = google_np[:, 4]\n",
    "DJI_np_closing = dji_np[:, 4]"
   ]
  },
  {
   "cell_type": "code",
   "execution_count": 94,
   "id": "da865892",
   "metadata": {},
   "outputs": [],
   "source": [
    "def smooth_data(data_arr, smooth_type, window_size):\n",
    "    \n",
    "    # YOUR CODE HERE\n",
    "    new_len=len(data_arr)-(window_size-1) # get the length of smooth_data\n",
    "    smoothed_data_arr=np.zeros(new_len)\n",
    "    for i in range(0,new_len): # iterate through data_arr\n",
    "        window_data=data_arr[i:i+window_size]\n",
    "        if smooth_type=='mean':\n",
    "            smoothed_data_arr[i]=np.mean(window_data)\n",
    "        else:\n",
    "            smoothed_data_arr[i]=np.median(window_data)\n",
    "\n",
    "    return smoothed_data_arr"
   ]
  },
  {
   "cell_type": "code",
   "execution_count": 95,
   "id": "ae1e8a2b",
   "metadata": {},
   "outputs": [],
   "source": [
    "# Tesla closing prices, smooth_type = 'mean', window_size = 100\n",
    "# Note your smoothed data will be shorter than the original\n",
    "\n",
    "smoothed_tsla_closing  = smooth_data(tesla_np_closing, smooth_type = 'mean', window_size = 100)"
   ]
  },
  {
   "cell_type": "code",
   "execution_count": 123,
   "id": "61a6ba44",
   "metadata": {},
   "outputs": [
    {
     "data": {
      "text/plain": [
       "Text(0, 0.5, 'Stock Price')"
      ]
     },
     "execution_count": 123,
     "metadata": {},
     "output_type": "execute_result"
    },
    {
     "data": {
      "image/png": "[encoded data removed]",
      "text/plain": [
       "<Figure size 1080x360 with 1 Axes>"
      ]
     },
     "metadata": {
      "needs_background": "light"
     },
     "output_type": "display_data"
    }
   ],
   "source": [
    "# plot smoothed_tsla_closing on top of tesla_np_closing\n",
    "\n",
    "# YOUR CODE HERE\n",
    "fig = plt.figure(figsize=(15,5))\n",
    "\n",
    "plt.plot(tesla_np_closing, linestyle='solid', linewidth=3, color='black')\n",
    "plt.plot(smoothed_tsla_closing, linestyle='dotted', linewidth=5, color='red')\n",
    "\n",
    "plt.title('Tesla Original vs Smoothed Data',fontsize=25)\n",
    "plt.xlabel('Days', fontsize=20)\n",
    "plt.ylabel('Stock Price', fontsize=20)"
   ]
  },
  {
   "cell_type": "code",
   "execution_count": 115,
   "id": "29535d23",
   "metadata": {},
   "outputs": [],
   "source": [
    "# Google closing prices, smooth_type = 'median', window_size = 150\n",
    "# Note your smoothed data will be shorter than the original\n",
    "\n",
    "smoothed_google_closing  = smooth_data(google_np_closing, smooth_type = 'median', window_size = 150)"
   ]
  },
  {
   "cell_type": "code",
   "execution_count": 124,
   "id": "f0d4ced3",
   "metadata": {},
   "outputs": [
    {
     "data": {
      "text/plain": [
       "Text(0, 0.5, 'Stock Price')"
      ]
     },
     "execution_count": 124,
     "metadata": {},
     "output_type": "execute_result"
    },
    {
     "data": {
      "image/png": "[encoded data removed]",
      "text/plain": [
       "<Figure size 1080x360 with 1 Axes>"
      ]
     },
     "metadata": {
      "needs_background": "light"
     },
     "output_type": "display_data"
    }
   ],
   "source": [
    "# plot smoothed_google_closing on top of google_np_closing\n",
    "\n",
    "# YOUR CODE HERE\n",
    "fig = plt.figure(figsize=(15,5))\n",
    "\n",
    "plt.plot(google_np_closing, linestyle='solid', linewidth=3, color='black')\n",
    "plt.plot(smoothed_google_closing, linestyle='dotted', linewidth=5, color='red')\n",
    "\n",
    "plt.title('Google Original vs Smoothed Data',fontsize=25)\n",
    "plt.xlabel('Days', fontsize=20)\n",
    "plt.ylabel('Stock Price', fontsize=20)"
   ]
  },
  {
   "cell_type": "code",
   "execution_count": 118,
   "id": "ec2b672b",
   "metadata": {},
   "outputs": [],
   "source": [
    "# Dow Jones Index closing prices, smooth_type = 'mean', window_size = 200\n",
    "# Note your smoothed data will be shorter than the original\n",
    "\n",
    "smoothed_dji_closing  = smooth_data(DJI_np_closing, smooth_type = 'mean', window_size = 200)"
   ]
  },
  {
   "cell_type": "code",
   "execution_count": 125,
   "id": "beb96963",
   "metadata": {},
   "outputs": [
    {
     "data": {
      "text/plain": [
       "Text(0, 0.5, 'Stock Price')"
      ]
     },
     "execution_count": 125,
     "metadata": {},
     "output_type": "execute_result"
    },
    {
     "data": {
      "image/png": "[encoded data removed]",
      "text/plain": [
       "<Figure size 1080x360 with 1 Axes>"
      ]
     },
     "metadata": {
      "needs_background": "light"
     },
     "output_type": "display_data"
    }
   ],
   "source": [
    "# plot smoothed_dji_closing on top of dji_np_closing\n",
    "\n",
    "# YOUR CODE HERE\n",
    "fig = plt.figure(figsize=(15,5))\n",
    "\n",
    "plt.plot(DJI_np_closing, linestyle='solid', linewidth=3, color='black')\n",
    "plt.plot(smoothed_dji_closing, linestyle='dotted', linewidth=5, color='red')\n",
    "\n",
    "plt.title('Dow Jones Index Original vs Smoothed Data',fontsize=25)\n",
    "plt.xlabel('Days', fontsize=20)\n",
    "plt.ylabel('Stock Price', fontsize=20)"
   ]
  },
  {
   "cell_type": "markdown",
   "id": "00c5e941",
   "metadata": {},
   "source": [
    "## Extra credit: Code efficiency\n",
    "### Achieve a runtime speed of < 50ms"
   ]
  },
  {
   "cell_type": "code",
   "execution_count": 126,
   "id": "9a2e58cd",
   "metadata": {},
   "outputs": [
    {
     "name": "stdout",
     "output_type": "stream",
     "text": [
      "249 ms ± 20.6 ms per loop (mean ± std. dev. of 7 runs, 1 loop each)\n"
     ]
    }
   ],
   "source": [
    "timeit -n 1 -r 7 smoothed_google_closing  = smooth_data(google_np_closing, smooth_type = 'median', window_size = 150)"
   ]
  },
  {
   "cell_type": "markdown",
   "id": "0e1317ff",
   "metadata": {},
   "source": [
    "### Exercise 4: Ranking Daily Stock Surges/Crashes"
   ]
  },
  {
   "cell_type": "markdown",
   "id": "a744515b",
   "metadata": {},
   "source": [
    "<img src=\"lab4_exercise4.png\" width=\"1000\">"
   ]
  },
  {
   "cell_type": "code",
   "execution_count": 187,
   "id": "1e42ebb9",
   "metadata": {},
   "outputs": [],
   "source": [
    "def detect_surge_crash(filepath, detect_type, num_output_dates):\n",
    "    \n",
    "    # YOUR CODE HERE\n",
    "    # Lab 2 slide 24 might come useful\n",
    "    file_np=pd.read_csv(filepath).to_numpy()\n",
    "    date_list=[]\n",
    "    price_change_list=[]\n",
    "    \n",
    "    date=file_np[:,0] # extract date\n",
    "    price_change=file_np[:,4]-file_np[:,1] # calculate close - open\n",
    "    \n",
    "    for i in range(0,num_output_dates):\n",
    "        index=0\n",
    "        if detect_type=='surge': # get the current index\n",
    "            index=np.argmax(price_change)\n",
    "        else:\n",
    "            index=np.argmin(price_change)\n",
    "            \n",
    "        date_list.append(date[index]) # add the value to output array\n",
    "        price_change_list.append(price_change[index])\n",
    "        \n",
    "        date=np.delete(date,index) # remove the value\n",
    "        price_change=np.delete(price_change,index)\n",
    "        \n",
    "    \n",
    "    return date_list, price_change_list"
   ]
  },
  {
   "cell_type": "code",
   "execution_count": 188,
   "id": "84d8ff18",
   "metadata": {},
   "outputs": [],
   "source": [
    "date_list_t, price_change_list_t = detect_surge_crash(filepath = 'TSLA.csv', detect_type = 'surge', num_output_dates = 5)"
   ]
  },
  {
   "cell_type": "code",
   "execution_count": 189,
   "id": "063e2f19",
   "metadata": {},
   "outputs": [
    {
     "name": "stdout",
     "output_type": "stream",
     "text": [
      "['2018-08-07', '2018-04-04', '2018-10-23', '2018-12-26', '2018-10-26'] [35.73001099999999, 34.16000299999999, 30.270019999999988, 26.089995999999985, 22.649993999999992]\n"
     ]
    }
   ],
   "source": [
    "print(date_list_t, price_change_list_t)"
   ]
  },
  {
   "cell_type": "code",
   "execution_count": 190,
   "id": "6a3b62f7",
   "metadata": {},
   "outputs": [],
   "source": [
    "date_list_g, price_change_list_g = detect_surge_crash(filepath = 'GOOGL.csv', detect_type = 'crash', num_output_dates = 7)"
   ]
  },
  {
   "cell_type": "code",
   "execution_count": 191,
   "id": "fbdf3f42",
   "metadata": {},
   "outputs": [
    {
     "name": "stdout",
     "output_type": "stream",
     "text": [
      "['2018-10-29', '2018-10-24', '2018-03-27', '2018-02-08', '2018-12-04', '2018-10-10', '2018-12-21'] [-61.81005899999991, -57.88000499999998, -56.96002199999998, -52.159973000000036, -50.52001900000005, -44.239990000000034, -40.79003899999998]\n"
     ]
    }
   ],
   "source": [
    "print(date_list_g, price_change_list_g)"
   ]
  },
  {
   "cell_type": "markdown",
   "id": "9dc480d9",
   "metadata": {},
   "source": [
    "## Extra credit: Code efficiency\n",
    "### Achieve a runtime speed of < 10ms"
   ]
  },
  {
   "cell_type": "code",
   "execution_count": 192,
   "id": "94179472",
   "metadata": {},
   "outputs": [
    {
     "name": "stdout",
     "output_type": "stream",
     "text": [
      "8.94 ms ± 1.73 ms per loop (mean ± std. dev. of 7 runs, 1 loop each)\n"
     ]
    }
   ],
   "source": [
    "timeit -n 1 -r 7 date_list_t, price_change_list_t = detect_surge_crash(filepath = 'TSLA.csv', detect_type = 'surge', num_output_dates = 5)"
   ]
  },
  {
   "cell_type": "markdown",
   "id": "5605702f",
   "metadata": {},
   "source": [
    "### Exercise 5: Human Debugger"
   ]
  },
  {
   "cell_type": "markdown",
   "id": "d5387df5",
   "metadata": {},
   "source": [
    "<img src=\"lab4_exercise5.png\" width=\"1200\">"
   ]
  },
  {
   "cell_type": "markdown",
   "id": "61790f59",
   "metadata": {},
   "source": [
    "### Faulty function #1 "
   ]
  },
  {
   "cell_type": "code",
   "execution_count": 211,
   "id": "7d54fe90",
   "metadata": {},
   "outputs": [],
   "source": [
    "def average_data_per_col(arr_2d):\n",
    "    \n",
    "    # NOTE FROM YOUR FRIEND PREPARING FOR STARBUCKS SOFTWARE ENGINEER TECH INTERVIEW \n",
    "    \"\"\"  The function takes numpy 2d array as an input, computes mean for each column data, and outputs 1D array \n",
    "         with the length equal to the # of columns.\n",
    "         \n",
    "         For some reason I keep getting errors.... I need your help to debug the code.\n",
    "         I need this position so I can get free ice lattes... :(\n",
    "    \n",
    "    \"\"\"\n",
    "    \n",
    "    # placeholder for averaged values\n",
    "    averaged_data = ()\n",
    "    \n",
    "    # Loop through each column data to compute mean and append to averaged_data \n",
    "    for k in range(len(arr_2d[:,0])):\n",
    "        \n",
    "        averaged_column_data = np.mean(arr_2d[:, k])\n",
    "        averaged_data.append(averaged_column_data)\n",
    "        \n",
    "    # Return numpy array form of the averaged_data\n",
    "    return np.array(averaged_data)"
   ]
  },
  {
   "cell_type": "code",
   "execution_count": 212,
   "id": "8f4ddb85",
   "metadata": {},
   "outputs": [],
   "source": [
    "# Load diabetes.csv and convert to numpy array\n",
    "\n",
    "diabetes = pd.read_csv('diabetes.csv')\n",
    "diabetes_np = diabetes.to_numpy()"
   ]
  },
  {
   "cell_type": "code",
   "execution_count": 213,
   "id": "bb0769db",
   "metadata": {},
   "outputs": [
    {
     "ename": "AttributeError",
     "evalue": "'tuple' object has no attribute 'append'",
     "output_type": "error",
     "traceback": [
      "\u001b[0;31m---------------------------------------------------------------------------\u001b[0m",
      "\u001b[0;31mAttributeError\u001b[0m                            Traceback (most recent call last)",
      "\u001b[0;32m<ipython-input-213-b465bb45759f>\u001b[0m in \u001b[0;36m<module>\u001b[0;34m\u001b[0m\n\u001b[1;32m      1\u001b[0m \u001b[0;31m# Run faulty function 1\u001b[0m\u001b[0;34m\u001b[0m\u001b[0;34m\u001b[0m\u001b[0;34m\u001b[0m\u001b[0m\n\u001b[1;32m      2\u001b[0m \u001b[0;34m\u001b[0m\u001b[0m\n\u001b[0;32m----> 3\u001b[0;31m \u001b[0maveraged_diabetic_attributes\u001b[0m \u001b[0;34m=\u001b[0m  \u001b[0maverage_data_per_col\u001b[0m\u001b[0;34m(\u001b[0m\u001b[0mdiabetes_np\u001b[0m\u001b[0;34m)\u001b[0m\u001b[0;34m\u001b[0m\u001b[0;34m\u001b[0m\u001b[0m\n\u001b[0m",
      "\u001b[0;32m<ipython-input-211-2ff6944ef1c3>\u001b[0m in \u001b[0;36maverage_data_per_col\u001b[0;34m(arr_2d)\u001b[0m\n\u001b[1;32m     17\u001b[0m \u001b[0;34m\u001b[0m\u001b[0m\n\u001b[1;32m     18\u001b[0m         \u001b[0maveraged_column_data\u001b[0m \u001b[0;34m=\u001b[0m \u001b[0mnp\u001b[0m\u001b[0;34m.\u001b[0m\u001b[0mmean\u001b[0m\u001b[0;34m(\u001b[0m\u001b[0marr_2d\u001b[0m\u001b[0;34m[\u001b[0m\u001b[0;34m:\u001b[0m\u001b[0;34m,\u001b[0m \u001b[0mk\u001b[0m\u001b[0;34m]\u001b[0m\u001b[0;34m)\u001b[0m\u001b[0;34m\u001b[0m\u001b[0;34m\u001b[0m\u001b[0m\n\u001b[0;32m---> 19\u001b[0;31m         \u001b[0maveraged_data\u001b[0m\u001b[0;34m.\u001b[0m\u001b[0mappend\u001b[0m\u001b[0;34m(\u001b[0m\u001b[0maveraged_column_data\u001b[0m\u001b[0;34m)\u001b[0m\u001b[0;34m\u001b[0m\u001b[0;34m\u001b[0m\u001b[0m\n\u001b[0m\u001b[1;32m     20\u001b[0m \u001b[0;34m\u001b[0m\u001b[0m\n\u001b[1;32m     21\u001b[0m     \u001b[0;31m# Return numpy array form of the averaged_data\u001b[0m\u001b[0;34m\u001b[0m\u001b[0;34m\u001b[0m\u001b[0;34m\u001b[0m\u001b[0m\n",
      "\u001b[0;31mAttributeError\u001b[0m: 'tuple' object has no attribute 'append'"
     ]
    }
   ],
   "source": [
    "# Run faulty function 1\n",
    "\n",
    "averaged_diabetic_attributes =  average_data_per_col(diabetes_np)"
   ]
  },
  {
   "cell_type": "code",
   "execution_count": 214,
   "id": "662c696e",
   "metadata": {},
   "outputs": [],
   "source": [
    "# YOUR FIXED FUNCTION HERE\n",
    "# Make sure you comment on your fixes\n",
    "\n",
    "def average_data_per_col_fixed(arr_2d):\n",
    "    \n",
    "    # YOUR CODE HERE\n",
    "    averaged_data = []  # change to list so it can be manipulated\n",
    "    \n",
    "    # Loop through each column data to compute mean and append to averaged_data \n",
    "    for k in range(len(arr_2d[0])): # change the upper limit from the number of rows to number of columns\n",
    "        \n",
    "        averaged_column_data = np.mean(arr_2d[:, k])\n",
    "        averaged_data.append(averaged_column_data)\n",
    "        \n",
    "    # Return numpy array form of the averaged_data\n",
    "    return np.array(averaged_data)"
   ]
  },
  {
   "cell_type": "code",
   "execution_count": 215,
   "id": "cb1aad89",
   "metadata": {},
   "outputs": [],
   "source": [
    "# Test your fixed function\n",
    "\n",
    "averaged_diabetic_attributes =  average_data_per_col_fixed(diabetes_np)"
   ]
  },
  {
   "cell_type": "code",
   "execution_count": 216,
   "id": "97927a5b",
   "metadata": {},
   "outputs": [
    {
     "data": {
      "text/plain": [
       "True"
      ]
     },
     "execution_count": 216,
     "metadata": {},
     "output_type": "execute_result"
    }
   ],
   "source": [
    "# Compare with correct results\n",
    "\n",
    "correct_result_func1 = np.load('E5_correct_output_1.npy')\n",
    "\n",
    "# Should return True if the result is correct\n",
    "np.sum(np.round(correct_result_func1, 3) == np.round(averaged_diabetic_attributes, 3)) == len(correct_result_func1) "
   ]
  },
  {
   "cell_type": "markdown",
   "id": "283bc04d",
   "metadata": {},
   "source": [
    "### Faulty function #2"
   ]
  },
  {
   "cell_type": "code",
   "execution_count": 217,
   "id": "7297d884",
   "metadata": {},
   "outputs": [],
   "source": [
    "def daily_stock_change_2_normalized_percentage(opening_price_arr, closing_price_arr):\n",
    "    \n",
    "    # NOTE FROM YOUR FRIEND WHO INVESTED IN TESLA\n",
    "    \"\"\"  I want to write a function which takes 2 1D numpy arrays of each corresponding to opening/closing prices of stock\n",
    "         and output 1D array of daily stock change in percentages. \n",
    "         \n",
    "         I want the percentages scale to be in a scale such that 1 = 100%, -0.5 = -50%, 1.5 = 150%  etc.\n",
    "         For example, day 1 opening: $10, day 1 closing: $15, change in scaled percecntage: 0.5.\n",
    "         \n",
    "         I am not really getting errors but the numbers don't look right... Can you help me?? :'( \n",
    "    \n",
    "    \"\"\"\n",
    "    \n",
    "    # placeholder for change percentage values\n",
    "    change_percentages = np.zeros(len(opening_price_arr), dtype = 'int')\n",
    "    \n",
    "    # Loop through each opening/closing price to compute the change percentage\n",
    "    for date_num in range(len(opening_price_arr)):\n",
    "        \n",
    "        change_percentages[date_num] = opening_price_arr[date_num] - closing_price_arr[date_num] / opening_price_arr[date_num]\n",
    "    \n",
    "    return change_percentages"
   ]
  },
  {
   "cell_type": "code",
   "execution_count": 218,
   "id": "8a6008e0",
   "metadata": {},
   "outputs": [],
   "source": [
    "# Load tsla.csv and convert to numpy array\n",
    "\n",
    "tesla = pd.read_csv('TSLA.csv') \n",
    "tesla_np = tesla.to_numpy()"
   ]
  },
  {
   "cell_type": "code",
   "execution_count": 219,
   "id": "3486e41e",
   "metadata": {},
   "outputs": [
    {
     "name": "stdout",
     "output_type": "stream",
     "text": [
      "[ 17  24  24 ... 237 244 242]\n"
     ]
    }
   ],
   "source": [
    "# Run faulty function 2\n",
    "\n",
    "change_percentages = daily_stock_change_2_normalized_percentage(tesla_np[:, 1], tesla_np[:, 4])\n",
    "print(change_percentages)"
   ]
  },
  {
   "cell_type": "code",
   "execution_count": 232,
   "id": "b0a52a2e",
   "metadata": {},
   "outputs": [],
   "source": [
    "# YOUR FIXED FUNCTION HERE\n",
    "# Make sure you comment on your fixes\n",
    "\n",
    "def daily_stock_change_2_normalized_percentage_fixed(opening_price_arr, closing_price_arr):\n",
    "    \n",
    "    # YOUR CODE HERE\n",
    "    # placeholder for change percentage values\n",
    "    change_percentages = np.zeros(len(opening_price_arr)) # percentage data type should not be 'int'\n",
    "    \n",
    "    # Loop through each opening/closing price to compute the change percentage\n",
    "    for date_num in range(len(opening_price_arr)):\n",
    "    \n",
    "        # percentage=(close-open)/open, thus exchange the position of closing price and opening price and add parantheses to\n",
    "        # ensure the operation order\n",
    "        change_percentages[date_num] = (closing_price_arr[date_num] - opening_price_arr[date_num]) / opening_price_arr[date_num]\n",
    "    return change_percentages"
   ]
  },
  {
   "cell_type": "code",
   "execution_count": 233,
   "id": "b0a62383",
   "metadata": {},
   "outputs": [
    {
     "name": "stdout",
     "output_type": "stream",
     "text": [
      "[ 0.25736837 -0.07599848 -0.12160004 ... -0.02026381 -0.00578363\n",
      "  0.04580496]\n"
     ]
    }
   ],
   "source": [
    "# Test your fixed function\n",
    "\n",
    "change_percentages = daily_stock_change_2_normalized_percentage_fixed(tesla_np[:, 1], tesla_np[:, 4])\n",
    "print(change_percentages)"
   ]
  },
  {
   "cell_type": "code",
   "execution_count": 234,
   "id": "3abcd16f",
   "metadata": {},
   "outputs": [
    {
     "data": {
      "text/plain": [
       "True"
      ]
     },
     "execution_count": 234,
     "metadata": {},
     "output_type": "execute_result"
    }
   ],
   "source": [
    "# Compare with correct results\n",
    "\n",
    "correct_result_func2 = np.load('E5_correct_output_2.npy')\n",
    "\n",
    "# Should return True if the result is correct\n",
    "np.sum(np.round(correct_result_func2, 3) == np.round(change_percentages, 3)) == len(correct_result_func2) "
   ]
  },
  {
   "cell_type": "markdown",
   "id": "f9f376cc",
   "metadata": {},
   "source": [
    "### Faulty function #3"
   ]
  },
  {
   "cell_type": "code",
   "execution_count": 235,
   "id": "54f49798",
   "metadata": {},
   "outputs": [],
   "source": [
    "def subset_diabetes_by_age(diabetes_data):\n",
    "    \n",
    "    # NOTE FROM YOUR FRIEND WHO WORKS AT UW IHME\n",
    "    \"\"\" The function takes diabetes pandas data frame as an input and outputs a subplot of 3 x 1 with three histograms.    \n",
    "    \n",
    "        Specifically, I want to divide the diabetes data into three age groups - \n",
    "            1. 20 to 40\n",
    "            2. 40 to 60\n",
    "            3. 60 to 80\n",
    "            \n",
    "        and plot 3 histograms of glucose distribution (50 bins per histogram) in 3 x 1 python subplots.\n",
    "        \n",
    "        I seem to be getting error from very beginning even before I divide the dataset....\n",
    "        My coworkers at IHME prefer R rather than Python... so you are my only hope!  \n",
    "    \n",
    "    \"\"\"\n",
    "    \n",
    "    # Extract the age column of the diabetes_data \n",
    "    age_column = diabetes_data[:, 8] \n",
    "    \n",
    "    # Construct boolean mask for each age group \n",
    "    age_20_40_bool_mask = age_column > 20 + age_column < 40\n",
    "    age_40_60_bool_mask = age_column > 40 + age_column < 60\n",
    "    age_60_80_bool_mask = age_column > 60 + age_column < 80\n",
    "    \n",
    "    # Get glucose data for each age group via applying the boolean mask for each age group\n",
    "    age_20_40_glucose = diabetes_data[age_20_40_bool_mask, 2]\n",
    "    age_40_60_glucose = diabetes_data[age_40_60_bool_mask, 2]\n",
    "    age_60_80_glucose = diabetes_data[age_60_80_bool_mask, 2]\n",
    "    \n",
    "    # Plot the histogram for each age group in 3 x 1 subplot\n",
    "    fig = plt.figure(figsize=(15,7))\n",
    "    \n",
    "    plt.subplot(3,1,1)\n",
    "    \n",
    "    plt.hist(age_20_40_glucose, bins = 50)\n",
    "    plt.title('Age 20 to 40', fontsize = 15)\n",
    "    \n",
    "    plt.subplot(3,1,2)\n",
    "    \n",
    "    plt.hist(age_40_60_glucose, bins = 50)\n",
    "    plt.title('Age 40 to 60', fontsize = 15)\n",
    "    \n",
    "    plt.subplot(3,1,3)\n",
    "    \n",
    "    plt.hist(age_60_80_glucose, bins = 50)\n",
    "    plt.title('Age 60 to 80', fontsize = 15)\n",
    "    \n",
    "    plt.tight_layout()\n",
    "    \n",
    "    plt.show()"
   ]
  },
  {
   "cell_type": "code",
   "execution_count": 242,
   "id": "6356d6db",
   "metadata": {},
   "outputs": [],
   "source": [
    "# Load diabetes.csv as pandas dataframe\n",
    "\n",
    "diabetes = pd.read_csv('diabetes.csv')"
   ]
  },
  {
   "cell_type": "code",
   "execution_count": 237,
   "id": "bf9e640a",
   "metadata": {},
   "outputs": [
    {
     "ename": "TypeError",
     "evalue": "'(slice(None, None, None), 8)' is an invalid key",
     "output_type": "error",
     "traceback": [
      "\u001b[0;31m---------------------------------------------------------------------------\u001b[0m",
      "\u001b[0;31mTypeError\u001b[0m                                 Traceback (most recent call last)",
      "\u001b[0;32m<ipython-input-237-a4feead92bde>\u001b[0m in \u001b[0;36m<module>\u001b[0;34m\u001b[0m\n\u001b[1;32m      1\u001b[0m \u001b[0;31m# Run faulty function 3\u001b[0m\u001b[0;34m\u001b[0m\u001b[0;34m\u001b[0m\u001b[0;34m\u001b[0m\u001b[0m\n\u001b[1;32m      2\u001b[0m \u001b[0;34m\u001b[0m\u001b[0m\n\u001b[0;32m----> 3\u001b[0;31m \u001b[0msubset_diabetes_by_age\u001b[0m\u001b[0;34m(\u001b[0m\u001b[0mdiabetes_data\u001b[0m \u001b[0;34m=\u001b[0m \u001b[0mdiabetes\u001b[0m\u001b[0;34m)\u001b[0m\u001b[0;34m\u001b[0m\u001b[0;34m\u001b[0m\u001b[0m\n\u001b[0m",
      "\u001b[0;32m<ipython-input-235-0bc1737390cc>\u001b[0m in \u001b[0;36msubset_diabetes_by_age\u001b[0;34m(diabetes_data)\u001b[0m\n\u001b[1;32m     17\u001b[0m \u001b[0;34m\u001b[0m\u001b[0m\n\u001b[1;32m     18\u001b[0m     \u001b[0;31m# Extract the age column of the diabetes_data\u001b[0m\u001b[0;34m\u001b[0m\u001b[0;34m\u001b[0m\u001b[0;34m\u001b[0m\u001b[0m\n\u001b[0;32m---> 19\u001b[0;31m     \u001b[0mage_column\u001b[0m \u001b[0;34m=\u001b[0m \u001b[0mdiabetes_data\u001b[0m\u001b[0;34m[\u001b[0m\u001b[0;34m:\u001b[0m\u001b[0;34m,\u001b[0m \u001b[0;36m8\u001b[0m\u001b[0;34m]\u001b[0m\u001b[0;34m\u001b[0m\u001b[0;34m\u001b[0m\u001b[0m\n\u001b[0m\u001b[1;32m     20\u001b[0m \u001b[0;34m\u001b[0m\u001b[0m\n\u001b[1;32m     21\u001b[0m     \u001b[0;31m# Construct boolean mask for each age group\u001b[0m\u001b[0;34m\u001b[0m\u001b[0;34m\u001b[0m\u001b[0;34m\u001b[0m\u001b[0m\n",
      "\u001b[0;32m/opt/anaconda3/lib/python3.8/site-packages/pandas/core/frame.py\u001b[0m in \u001b[0;36m__getitem__\u001b[0;34m(self, key)\u001b[0m\n\u001b[1;32m   3022\u001b[0m             \u001b[0;32mif\u001b[0m \u001b[0mself\u001b[0m\u001b[0;34m.\u001b[0m\u001b[0mcolumns\u001b[0m\u001b[0;34m.\u001b[0m\u001b[0mnlevels\u001b[0m \u001b[0;34m>\u001b[0m \u001b[0;36m1\u001b[0m\u001b[0;34m:\u001b[0m\u001b[0;34m\u001b[0m\u001b[0;34m\u001b[0m\u001b[0m\n\u001b[1;32m   3023\u001b[0m                 \u001b[0;32mreturn\u001b[0m \u001b[0mself\u001b[0m\u001b[0;34m.\u001b[0m\u001b[0m_getitem_multilevel\u001b[0m\u001b[0;34m(\u001b[0m\u001b[0mkey\u001b[0m\u001b[0;34m)\u001b[0m\u001b[0;34m\u001b[0m\u001b[0;34m\u001b[0m\u001b[0m\n\u001b[0;32m-> 3024\u001b[0;31m             \u001b[0mindexer\u001b[0m \u001b[0;34m=\u001b[0m \u001b[0mself\u001b[0m\u001b[0;34m.\u001b[0m\u001b[0mcolumns\u001b[0m\u001b[0;34m.\u001b[0m\u001b[0mget_loc\u001b[0m\u001b[0;34m(\u001b[0m\u001b[0mkey\u001b[0m\u001b[0;34m)\u001b[0m\u001b[0;34m\u001b[0m\u001b[0;34m\u001b[0m\u001b[0m\n\u001b[0m\u001b[1;32m   3025\u001b[0m             \u001b[0;32mif\u001b[0m \u001b[0mis_integer\u001b[0m\u001b[0;34m(\u001b[0m\u001b[0mindexer\u001b[0m\u001b[0;34m)\u001b[0m\u001b[0;34m:\u001b[0m\u001b[0;34m\u001b[0m\u001b[0;34m\u001b[0m\u001b[0m\n\u001b[1;32m   3026\u001b[0m                 \u001b[0mindexer\u001b[0m \u001b[0;34m=\u001b[0m \u001b[0;34m[\u001b[0m\u001b[0mindexer\u001b[0m\u001b[0;34m]\u001b[0m\u001b[0;34m\u001b[0m\u001b[0;34m\u001b[0m\u001b[0m\n",
      "\u001b[0;32m/opt/anaconda3/lib/python3.8/site-packages/pandas/core/indexes/base.py\u001b[0m in \u001b[0;36mget_loc\u001b[0;34m(self, key, method, tolerance)\u001b[0m\n\u001b[1;32m   3078\u001b[0m             \u001b[0mcasted_key\u001b[0m \u001b[0;34m=\u001b[0m \u001b[0mself\u001b[0m\u001b[0;34m.\u001b[0m\u001b[0m_maybe_cast_indexer\u001b[0m\u001b[0;34m(\u001b[0m\u001b[0mkey\u001b[0m\u001b[0;34m)\u001b[0m\u001b[0;34m\u001b[0m\u001b[0;34m\u001b[0m\u001b[0m\n\u001b[1;32m   3079\u001b[0m             \u001b[0;32mtry\u001b[0m\u001b[0;34m:\u001b[0m\u001b[0;34m\u001b[0m\u001b[0;34m\u001b[0m\u001b[0m\n\u001b[0;32m-> 3080\u001b[0;31m                 \u001b[0;32mreturn\u001b[0m \u001b[0mself\u001b[0m\u001b[0;34m.\u001b[0m\u001b[0m_engine\u001b[0m\u001b[0;34m.\u001b[0m\u001b[0mget_loc\u001b[0m\u001b[0;34m(\u001b[0m\u001b[0mcasted_key\u001b[0m\u001b[0;34m)\u001b[0m\u001b[0;34m\u001b[0m\u001b[0;34m\u001b[0m\u001b[0m\n\u001b[0m\u001b[1;32m   3081\u001b[0m             \u001b[0;32mexcept\u001b[0m \u001b[0mKeyError\u001b[0m \u001b[0;32mas\u001b[0m \u001b[0merr\u001b[0m\u001b[0;34m:\u001b[0m\u001b[0;34m\u001b[0m\u001b[0;34m\u001b[0m\u001b[0m\n\u001b[1;32m   3082\u001b[0m                 \u001b[0;32mraise\u001b[0m \u001b[0mKeyError\u001b[0m\u001b[0;34m(\u001b[0m\u001b[0mkey\u001b[0m\u001b[0;34m)\u001b[0m \u001b[0;32mfrom\u001b[0m \u001b[0merr\u001b[0m\u001b[0;34m\u001b[0m\u001b[0;34m\u001b[0m\u001b[0m\n",
      "\u001b[0;32mpandas/_libs/index.pyx\u001b[0m in \u001b[0;36mpandas._libs.index.IndexEngine.get_loc\u001b[0;34m()\u001b[0m\n",
      "\u001b[0;32mpandas/_libs/index.pyx\u001b[0m in \u001b[0;36mpandas._libs.index.IndexEngine.get_loc\u001b[0;34m()\u001b[0m\n",
      "\u001b[0;31mTypeError\u001b[0m: '(slice(None, None, None), 8)' is an invalid key"
     ]
    }
   ],
   "source": [
    "# Run faulty function 3\n",
    "\n",
    "subset_diabetes_by_age(diabetes_data = diabetes)"
   ]
  },
  {
   "cell_type": "code",
   "execution_count": 267,
   "id": "31505293",
   "metadata": {},
   "outputs": [],
   "source": [
    "# YOUR FIXED FUNCTION HERE\n",
    "# Make sure you comment on your fixes\n",
    "\n",
    "def subset_diabetes_by_age_fixed(diabetes_data):\n",
    "    \n",
    "    # YOUR CODE HERE\n",
    "    # Extract the age column of the diabetes_data \n",
    "    diabetes_data=diabetes_data.to_numpy() # convert to numpy array \n",
    "    age_column = diabetes_data[:, 7]  # age column index is 7\n",
    "    \n",
    "    # Construct boolean mask for each age group \n",
    "    age_20_40_bool_mask = (age_column > 20) & (age_column < 40) # the relationship is and instead of add\n",
    "    age_40_60_bool_mask = (age_column > 40) & (age_column < 60)\n",
    "    age_60_80_bool_mask = (age_column > 60) & (age_column < 80)\n",
    "    \n",
    "    # Get glucose data for each age group via applying the boolean mask for each age group\n",
    "    age_20_40_glucose = diabetes_data[age_20_40_bool_mask, 1] # glucose is column1\n",
    "    age_40_60_glucose = diabetes_data[age_40_60_bool_mask, 1]\n",
    "    age_60_80_glucose = diabetes_data[age_60_80_bool_mask, 1]\n",
    "    \n",
    "    # Plot the histogram for each age group in 3 x 1 subplot\n",
    "    fig = plt.figure(figsize=(15,7))\n",
    "    \n",
    "    plt.subplot(3,1,1)\n",
    "    \n",
    "    plt.hist(age_20_40_glucose, bins = 50)\n",
    "    plt.title('Age 20 to 40', fontsize = 15)\n",
    "    \n",
    "    plt.subplot(3,1,2)\n",
    "    \n",
    "    plt.hist(age_40_60_glucose, bins = 50)\n",
    "    plt.title('Age 40 to 60', fontsize = 15)\n",
    "    \n",
    "    plt.subplot(3,1,3)\n",
    "    \n",
    "    plt.hist(age_60_80_glucose, bins = 50)\n",
    "    plt.title('Age 60 to 80', fontsize = 15)\n",
    "    \n",
    "    plt.tight_layout()\n",
    "    \n",
    "    plt.show()"
   ]
  },
  {
   "cell_type": "code",
   "execution_count": 268,
   "id": "8b0e259f",
   "metadata": {},
   "outputs": [
    {
     "data": {
      "image/png": "[encoded data removed]",
      "text/plain": [
       "<Figure size 1080x504 with 3 Axes>"
      ]
     },
     "metadata": {
      "needs_background": "light"
     },
     "output_type": "display_data"
    }
   ],
   "source": [
    "# Test your fixed function\n",
    "# Compare your plot with the correct plot provided in template folder\n",
    "\n",
    "subset_diabetes_by_age_fixed(diabetes_data = diabetes)"
   ]
  },
  {
   "cell_type": "code",
   "execution_count": null,
   "id": "13b1de20",
   "metadata": {},
   "outputs": [],
   "source": []
  }
 ],
 "metadata": {
  "kernelspec": {
   "display_name": "Python 3 (ipykernel)",
   "language": "python",
   "name": "python3"
  },
  "language_info": {
   "codemirror_mode": {
    "name": "ipython",
    "version": 3
   },
   "file_extension": ".py",
   "mimetype": "text/x-python",
   "name": "python",
   "nbconvert_exporter": "python",
   "pygments_lexer": "ipython3",
   "version": "3.9.7"
  }
 },
 "nbformat": 4,
 "nbformat_minor": 5
}
