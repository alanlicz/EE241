{
 "cells": [
  {
   "cell_type": "markdown",
   "id": "f149ebf9",
   "metadata": {},
   "source": [
    "# Lab 1 Report"
   ]
  },
  {
   "cell_type": "markdown",
   "id": "f1d7d623",
   "metadata": {},
   "source": [
    "### Group Members:"
   ]
  },
  {
   "cell_type": "code",
   "execution_count": 1,
   "id": "3fcbc2f4",
   "metadata": {},
   "outputs": [],
   "source": [
    "import math"
   ]
  },
  {
   "cell_type": "markdown",
   "id": "2a86df69",
   "metadata": {},
   "source": [
    "# Exercise 1"
   ]
  },
  {
   "cell_type": "markdown",
   "id": "df4cae20",
   "metadata": {},
   "source": [
    "<img src=\"lab1_exercise1.png\" width=\"800\">"
   ]
  },
  {
   "cell_type": "code",
   "execution_count": 2,
   "id": "f6273344",
   "metadata": {},
   "outputs": [],
   "source": [
    "x1 = 3\n",
    "y1 = 4\n",
    "\n",
    "x2 = 5\n",
    "y2 = 9"
   ]
  },
  {
   "cell_type": "code",
   "execution_count": 3,
   "id": "9e8b7a4b",
   "metadata": {},
   "outputs": [],
   "source": [
    "dist = math.sqrt((x2-x1)**2 + (y2-y1)**2)"
   ]
  },
  {
   "cell_type": "code",
   "execution_count": 4,
   "id": "1b7c1f1f",
   "metadata": {},
   "outputs": [
    {
     "name": "stdout",
     "output_type": "stream",
     "text": [
      "5.385164807134504\n"
     ]
    }
   ],
   "source": [
    "print(dist)"
   ]
  },
  {
   "cell_type": "markdown",
   "id": "5d68d1f2",
   "metadata": {},
   "source": [
    "# Exercise 2"
   ]
  },
  {
   "cell_type": "markdown",
   "id": "0a5c05c2",
   "metadata": {},
   "source": [
    "<img src=\"lab1_exercise2.png\" width=\"800\">"
   ]
  },
  {
   "cell_type": "code",
   "execution_count": 34,
   "id": "23ee502d",
   "metadata": {},
   "outputs": [],
   "source": [
    "degree_list = [180, 90, 45, 30]\n",
    "radian_list = list(map(math.radians, degree_list))"
   ]
  },
  {
   "cell_type": "code",
   "execution_count": 35,
   "id": "a4f40f92",
   "metadata": {},
   "outputs": [],
   "source": [
    "sine_list = list(map(math.sin, radian_list))"
   ]
  },
  {
   "cell_type": "code",
   "execution_count": 36,
   "id": "7331af9f",
   "metadata": {},
   "outputs": [
    {
     "name": "stdout",
     "output_type": "stream",
     "text": [
      "[-1.0, 6.123233995736766e-17, 0.7071067811865476, 0.8660254037844387]\n"
     ]
    }
   ],
   "source": [
    "cosine_list = list(map(math.cos, radian_list))"
   ]
  },
  {
   "cell_type": "code",
   "execution_count": 37,
   "id": "31ad32b4",
   "metadata": {},
   "outputs": [
    {
     "name": "stdout",
     "output_type": "stream",
     "text": [
      "[1.2246467991473532e-16, 1.0, 0.7071067811865475, 0.49999999999999994]\n"
     ]
    }
   ],
   "source": [
    "print(sine_list)"
   ]
  },
  {
   "cell_type": "code",
   "execution_count": 38,
   "id": "1e3ecd64",
   "metadata": {},
   "outputs": [
    {
     "name": "stdout",
     "output_type": "stream",
     "text": [
      "[-1.0, 6.123233995736766e-17, 0.7071067811865476, 0.8660254037844387]\n"
     ]
    }
   ],
   "source": [
    "print(cosine_list)"
   ]
  },
  {
   "cell_type": "code",
   "execution_count": 28,
   "id": "dcdaf9df",
   "metadata": {},
   "outputs": [],
   "source": [
    "# NOTE: \n",
    "# It's normal for list elements to be not completely identical to correct sine/cosine values due to rounding errors\n",
    "# If you want to round them use round() function - e.g. round(0.4999999991, 5) = 0.5 "
   ]
  },
  {
   "cell_type": "markdown",
   "id": "34b2e4b8",
   "metadata": {},
   "source": [
    "# Exercise 3"
   ]
  },
  {
   "cell_type": "markdown",
   "id": "e2a3ae38",
   "metadata": {},
   "source": [
    "<img src=\"lab1_exercise3.png\" width=\"800\">"
   ]
  },
  {
   "cell_type": "code",
   "execution_count": 48,
   "id": "15e9f8d3",
   "metadata": {},
   "outputs": [
    {
     "name": "stdout",
     "output_type": "stream",
     "text": [
      "3.62686\n"
     ]
    }
   ],
   "source": [
    "sinh_manual = (math.exp(2) - math.exp(-2)) / 2\n",
    "sinh_manual = round(sinh_manual, 5)"
   ]
  },
  {
   "cell_type": "code",
   "execution_count": 51,
   "id": "3615c1a5",
   "metadata": {},
   "outputs": [],
   "source": [
    "value_match = (sinh_manual == round(math.sinh(2), 5))"
   ]
  },
  {
   "cell_type": "code",
   "execution_count": 52,
   "id": "911c9da5",
   "metadata": {},
   "outputs": [
    {
     "name": "stdout",
     "output_type": "stream",
     "text": [
      "True\n"
     ]
    }
   ],
   "source": [
    "print(value_match) # See if the value is True "
   ]
  },
  {
   "cell_type": "code",
   "execution_count": null,
   "id": "dc27dc37",
   "metadata": {},
   "outputs": [],
   "source": [
    "# NOTE: sinh_manual and math.sinh(2) might be different by tiny amount due to rounding errors,\n",
    "# In such a case, use round(sinh_manual, 5) and round(value_match, 5) to round the values to 5 decimal places "
   ]
  },
  {
   "cell_type": "markdown",
   "id": "8c58308c",
   "metadata": {},
   "source": [
    "# Exercise 4"
   ]
  },
  {
   "cell_type": "markdown",
   "id": "f955c785",
   "metadata": {},
   "source": [
    "<img src=\"lab1_exercise4.png\" width=\"800\">"
   ]
  },
  {
   "cell_type": "code",
   "execution_count": 56,
   "id": "ad0ce2c1",
   "metadata": {},
   "outputs": [],
   "source": [
    "p1, q1 = False, False\n",
    "p2, q2 = True, False\n",
    "p3, q3 = False, True\n",
    "p4, q4 = True, True"
   ]
  },
  {
   "cell_type": "code",
   "execution_count": 57,
   "id": "ddb8049b",
   "metadata": {},
   "outputs": [],
   "source": [
    "# HINT: XOR = (OR) AND (NAND) where NAND = NOT(AND) \n",
    "# NOTE: You must use the same logical expression for cells below with only p and q values changing for each cell"
   ]
  },
  {
   "cell_type": "code",
   "execution_count": 58,
   "id": "c0f5262c",
   "metadata": {},
   "outputs": [
    {
     "name": "stdout",
     "output_type": "stream",
     "text": [
      "False\n"
     ]
    }
   ],
   "source": [
    "# print your xor expression for p1, q1\n",
    "\n",
    "print((p1 or q1) and ((not p1) or (not q1)))"
   ]
  },
  {
   "cell_type": "code",
   "execution_count": 59,
   "id": "dffce00d",
   "metadata": {},
   "outputs": [
    {
     "name": "stdout",
     "output_type": "stream",
     "text": [
      "True\n"
     ]
    }
   ],
   "source": [
    "# print your xor expression for p2, q2\n",
    "\n",
    "print((p2 or q2) and ((not p2) or (not q2)))"
   ]
  },
  {
   "cell_type": "code",
   "execution_count": 60,
   "id": "8c701900",
   "metadata": {},
   "outputs": [
    {
     "name": "stdout",
     "output_type": "stream",
     "text": [
      "True\n"
     ]
    }
   ],
   "source": [
    "# print your xor expression for p3, q3\n",
    "\n",
    "print((p3 or q3) and ((not p3) or (not q3)))"
   ]
  },
  {
   "cell_type": "code",
   "execution_count": 61,
   "id": "e34bf5ec",
   "metadata": {},
   "outputs": [
    {
     "name": "stdout",
     "output_type": "stream",
     "text": [
      "False\n"
     ]
    }
   ],
   "source": [
    "# print your xor expression for p4, q4\n",
    "\n",
    "print((p4 or q4) and ((not p4) or (not q4)))"
   ]
  },
  {
   "cell_type": "markdown",
   "id": "e8727a01",
   "metadata": {},
   "source": [
    "# Exercise 5"
   ]
  },
  {
   "cell_type": "markdown",
   "id": "6944b4d1",
   "metadata": {},
   "source": [
    "<img src=\"lab1_exercise5.png\" width=\"800\">"
   ]
  },
  {
   "cell_type": "code",
   "execution_count": 62,
   "id": "7d2e21fd",
   "metadata": {},
   "outputs": [],
   "source": [
    "sample_list = list(range(101))"
   ]
  },
  {
   "cell_type": "code",
   "execution_count": 64,
   "id": "579d557e",
   "metadata": {},
   "outputs": [
    {
     "name": "stdout",
     "output_type": "stream",
     "text": [
      "[76, 77, 78, 79, 80, 81, 82, 83, 84, 85, 86, 87, 88, 89, 90, 91, 92, 93, 94, 95, 96, 97, 98, 99, 100]\n"
     ]
    }
   ],
   "source": [
    "# print last 25 values of the list\n",
    "\n",
    "print(sample_list[-25:])"
   ]
  },
  {
   "cell_type": "code",
   "execution_count": 65,
   "id": "f4642251",
   "metadata": {},
   "outputs": [
    {
     "name": "stdout",
     "output_type": "stream",
     "text": [
      "[24, 25, 26, 27, 28, 29, 30, 31, 32, 33, 34, 35, 36, 37, 38, 39, 40, 41, 42, 43, 44, 45, 46, 47, 48, 49, 50, 51, 52, 53, 54, 55, 56, 57, 58, 59, 60, 61, 62, 63, 64, 65, 66, 67, 68, 69, 70, 71, 72, 73]\n"
     ]
    }
   ],
   "source": [
    "# print values that fall into 1/4 to 3/4 of the list's length\n",
    "\n",
    "print(sample_list[24:74])"
   ]
  },
  {
   "cell_type": "code",
   "execution_count": 66,
   "id": "523206ce",
   "metadata": {},
   "outputs": [
    {
     "name": "stdout",
     "output_type": "stream",
     "text": [
      "[0, 2, 4, 6, 8, 10, 12, 14, 16, 18, 20, 22, 24, 26, 28, 30, 32, 34, 36, 38, 40, 42, 44, 46, 48, 50, 52, 54, 56, 58, 60, 62, 64, 66, 68, 70, 72, 74, 76, 78, 80, 82, 84, 86, 88, 90, 92, 94, 96, 98, 100]\n"
     ]
    }
   ],
   "source": [
    "# print values that correspond to every even index\n",
    "# Hint: see 2.6 indexing list section in Lab1_Lecture_Examples.ipynb\n",
    "\n",
    "print(sample_list[0::2])"
   ]
  },
  {
   "cell_type": "code",
   "execution_count": 67,
   "id": "5be9c496",
   "metadata": {},
   "outputs": [
    {
     "name": "stdout",
     "output_type": "stream",
     "text": [
      "[1, 3, 5, 7, 9, 11, 13, 15, 17, 19, 21, 23, 25, 27, 29, 31, 33, 35, 37, 39, 41, 43, 45, 47, 49, 51, 53, 55, 57, 59, 61, 63, 65, 67, 69, 71, 73, 75, 77, 79, 81, 83, 85, 87, 89, 91, 93, 95, 97, 99]\n"
     ]
    }
   ],
   "source": [
    "# print values that correspond to every odd index\n",
    "# Hint: see 2.6 indexing list section in Lab1_Lecture_Examples.ipynb\n",
    "\n",
    "print(sample_list[1::2])"
   ]
  },
  {
   "cell_type": "code",
   "execution_count": null,
   "id": "85a9677b",
   "metadata": {},
   "outputs": [],
   "source": []
  }
 ],
 "metadata": {
  "kernelspec": {
   "display_name": "Python 3 (ipykernel)",
   "language": "python",
   "name": "python3"
  },
  "language_info": {
   "codemirror_mode": {
    "name": "ipython",
    "version": 3
   },
   "file_extension": ".py",
   "mimetype": "text/x-python",
   "name": "python",
   "nbconvert_exporter": "python",
   "pygments_lexer": "ipython3",
   "version": "3.9.7"
  }
 },
 "nbformat": 4,
 "nbformat_minor": 5
}
