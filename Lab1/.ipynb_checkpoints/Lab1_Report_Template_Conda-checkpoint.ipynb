{
 "cells": [
  {
   "cell_type": "markdown",
   "id": "f149ebf9",
   "metadata": {},
   "source": [
    "# Lab 1 Report"
   ]
  },
  {
   "cell_type": "markdown",
   "id": "f1d7d623",
   "metadata": {},
   "source": [
    "### Group Members:"
   ]
  },
  {
   "cell_type": "code",
   "execution_count": 1,
   "id": "3df84039",
   "metadata": {},
   "outputs": [],
   "source": [
    "import math"
   ]
  },
  {
   "cell_type": "markdown",
   "id": "2a86df69",
   "metadata": {},
   "source": [
    "# Exercise 1"
   ]
  },
  {
   "cell_type": "markdown",
   "id": "df4cae20",
   "metadata": {},
   "source": [
    "<img src=\"lab1_exercise1.png\" width=\"800\">"
   ]
  },
  {
   "cell_type": "code",
   "execution_count": 2,
   "id": "f6273344",
   "metadata": {},
   "outputs": [],
   "source": [
    "x1 = 3\n",
    "y1 = 4\n",
    "\n",
    "x2 = 5\n",
    "y2 = 9"
   ]
  },
  {
   "cell_type": "code",
   "execution_count": 3,
   "id": "9e8b7a4b",
   "metadata": {},
   "outputs": [],
   "source": [
    "dist = math.sqrt((x2-x1)**2 + (y2-y1)**2)"
   ]
  },
  {
   "cell_type": "code",
   "execution_count": 4,
   "id": "1b7c1f1f",
   "metadata": {},
   "outputs": [
    {
     "name": "stdout",
     "output_type": "stream",
     "text": [
      "5.385164807134504\n"
     ]
    }
   ],
   "source": [
    "print(dist)"
   ]
  },
  {
   "cell_type": "markdown",
   "id": "5d68d1f2",
   "metadata": {},
   "source": [
    "# Exercise 2"
   ]
  },
  {
   "cell_type": "markdown",
   "id": "0a5c05c2",
   "metadata": {},
   "source": [
    "<img src=\"lab1_exercise2.png\" width=\"800\">"
   ]
  },
  {
   "cell_type": "code",
   "execution_count": 23,
   "id": "4643353d",
   "metadata": {},
   "outputs": [],
   "source": [
    "degree_list = [180, 90, 45, 30]\n",
    "radian_list = map(math.radians, degree_list)"
   ]
  },
  {
   "cell_type": "code",
   "execution_count": 24,
   "id": "a4f40f92",
   "metadata": {},
   "outputs": [],
   "source": [
    "sine_list = map(math.sin, radian_list)"
   ]
  },
  {
   "cell_type": "code",
   "execution_count": 25,
   "id": "7331af9f",
   "metadata": {},
   "outputs": [
    {
     "name": "stdout",
     "output_type": "stream",
     "text": [
      "<map object at 0x7fb27de68490>\n"
     ]
    }
   ],
   "source": [
    "cosine_list = map(math.cos, radian_list)\n",
    "print(cosine_list)"
   ]
  },
  {
   "cell_type": "code",
   "execution_count": 26,
   "id": "31ad32b4",
   "metadata": {},
   "outputs": [
    {
     "name": "stdout",
     "output_type": "stream",
     "text": [
      "[1.2246467991473532e-16, 1.0, 0.7071067811865475, 0.49999999999999994]\n"
     ]
    }
   ],
   "source": [
    "print(list(sine_list))"
   ]
  },
  {
   "cell_type": "code",
   "execution_count": 27,
   "id": "1e3ecd64",
   "metadata": {},
   "outputs": [
    {
     "name": "stdout",
     "output_type": "stream",
     "text": [
      "[]\n"
     ]
    }
   ],
   "source": [
    "print(list(cosine_list))"
   ]
  },
  {
   "cell_type": "code",
   "execution_count": 28,
   "id": "dcdaf9df",
   "metadata": {},
   "outputs": [],
   "source": [
    "# NOTE: \n",
    "# It's normal for list elements to be not completely identical to correct sine/cosine values due to rounding errors\n",
    "# If you want to round them use round() function - e.g. round(0.4999999991, 5) = 0.5 "
   ]
  },
  {
   "cell_type": "markdown",
   "id": "34b2e4b8",
   "metadata": {},
   "source": [
    "# Exercise 3"
   ]
  },
  {
   "cell_type": "markdown",
   "id": "e2a3ae38",
   "metadata": {},
   "source": [
    "<img src=\"lab1_exercise3.png\" width=\"800\">"
   ]
  },
  {
   "cell_type": "code",
   "execution_count": null,
   "id": "15e9f8d3",
   "metadata": {},
   "outputs": [],
   "source": [
    "sinh_manual = # Manually implement sinh(x) when x = 2"
   ]
  },
  {
   "cell_type": "code",
   "execution_count": null,
   "id": "3615c1a5",
   "metadata": {},
   "outputs": [],
   "source": [
    "value_match = # Use comparison operator to compare sinh_manul with math.sinh(2). value_match should be boolean type"
   ]
  },
  {
   "cell_type": "code",
   "execution_count": null,
   "id": "911c9da5",
   "metadata": {},
   "outputs": [],
   "source": [
    "print(value_match) # See if the value is True "
   ]
  },
  {
   "cell_type": "code",
   "execution_count": null,
   "id": "dc27dc37",
   "metadata": {},
   "outputs": [],
   "source": [
    "# NOTE: sinh_manual and math.sinh(2) might be different by tiny amount due to rounding errors,\n",
    "# In such a case, use round(sinh_manual, 5) and round(value_match, 5) to round the values to 5 decimal places "
   ]
  },
  {
   "cell_type": "markdown",
   "id": "8c58308c",
   "metadata": {},
   "source": [
    "# Exercise 4"
   ]
  },
  {
   "cell_type": "markdown",
   "id": "f955c785",
   "metadata": {},
   "source": [
    "<img src=\"lab1_exercise4.png\" width=\"800\">"
   ]
  },
  {
   "cell_type": "code",
   "execution_count": null,
   "id": "ad0ce2c1",
   "metadata": {},
   "outputs": [],
   "source": [
    "p1, q1 = False, False\n",
    "p2, q2 = True, False\n",
    "p3, q3 = False, True\n",
    "p4, q4 = True, True"
   ]
  },
  {
   "cell_type": "code",
   "execution_count": null,
   "id": "ddb8049b",
   "metadata": {},
   "outputs": [],
   "source": [
    "# HINT: XOR = (OR) AND (NAND) where NAND = NOT(AND) \n",
    "# NOTE: You must use the same logical expression for cells below with only p and q values changing for each cell"
   ]
  },
  {
   "cell_type": "code",
   "execution_count": null,
   "id": "c0f5262c",
   "metadata": {},
   "outputs": [],
   "source": [
    "# print your xor expression for p1, q1\n",
    "\n",
    "# YOUR CODE HERE"
   ]
  },
  {
   "cell_type": "code",
   "execution_count": null,
   "id": "dffce00d",
   "metadata": {},
   "outputs": [],
   "source": [
    "# print your xor expression for p2, q2\n",
    "\n",
    "# YOUR CODE HERE"
   ]
  },
  {
   "cell_type": "code",
   "execution_count": null,
   "id": "8c701900",
   "metadata": {},
   "outputs": [],
   "source": [
    "# print your xor expression for p3, q3\n",
    "\n",
    "# YOUR CODE HERE"
   ]
  },
  {
   "cell_type": "code",
   "execution_count": null,
   "id": "e34bf5ec",
   "metadata": {},
   "outputs": [],
   "source": [
    "# print your xor expression for p4, q4\n",
    "\n",
    "# YOUR CODE HERE"
   ]
  },
  {
   "cell_type": "markdown",
   "id": "e8727a01",
   "metadata": {},
   "source": [
    "# Exercise 5"
   ]
  },
  {
   "cell_type": "markdown",
   "id": "6944b4d1",
   "metadata": {},
   "source": [
    "<img src=\"lab1_exercise5.png\" width=\"800\">"
   ]
  },
  {
   "cell_type": "code",
   "execution_count": null,
   "id": "7d2e21fd",
   "metadata": {},
   "outputs": [],
   "source": [
    "sample_list = list(range(101))"
   ]
  },
  {
   "cell_type": "code",
   "execution_count": null,
   "id": "579d557e",
   "metadata": {},
   "outputs": [],
   "source": [
    "# print last 25 values of the list\n",
    "\n",
    "# YOUR CODE HERE"
   ]
  },
  {
   "cell_type": "code",
   "execution_count": null,
   "id": "f4642251",
   "metadata": {},
   "outputs": [],
   "source": [
    "# print values that fall into 1/4 to 3/4 of the list's length\n",
    "\n",
    "# YOUR CODE HERE"
   ]
  },
  {
   "cell_type": "code",
   "execution_count": null,
   "id": "523206ce",
   "metadata": {},
   "outputs": [],
   "source": [
    "# print values that correspond to every even index\n",
    "# Hint: see 2.6 indexing list section in Lab1_Lecture_Examples.ipynb\n",
    "\n",
    "# YOUR CODE HERE"
   ]
  },
  {
   "cell_type": "code",
   "execution_count": null,
   "id": "5be9c496",
   "metadata": {},
   "outputs": [],
   "source": [
    "# print values that correspond to every odd index\n",
    "# Hint: see 2.6 indexing list section in Lab1_Lecture_Examples.ipynb\n",
    "\n",
    "# YOUR CODE HERE"
   ]
  }
 ],
 "metadata": {
  "kernelspec": {
   "display_name": "Python 3 (ipykernel)",
   "language": "python",
   "name": "python3"
  },
  "language_info": {
   "codemirror_mode": {
    "name": "ipython",
    "version": 3
   },
   "file_extension": ".py",
   "mimetype": "text/x-python",
   "name": "python",
   "nbconvert_exporter": "python",
   "pygments_lexer": "ipython3",
   "version": "3.9.7"
  }
 },
 "nbformat": 4,
 "nbformat_minor": 5
}
